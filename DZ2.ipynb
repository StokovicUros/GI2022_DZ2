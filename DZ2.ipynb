{
 "cells": [
  {
   "cell_type": "code",
   "execution_count": 6,
   "metadata": {},
   "outputs": [],
   "source": [
    "import pysam\n",
    "\n",
    "bamfile = pysam.AlignmentFile(\"/sbgenomics/project-files/merged-tumor.bam\", \"rb\")"
   ]
  },
  {
   "cell_type": "code",
   "execution_count": 7,
   "metadata": {},
   "outputs": [
    {
     "name": "stdout",
     "output_type": "stream",
     "text": [
      "Read number 1\n",
      "Query name: C0HVYACXX120402:7:1207:5722:57044\n",
      "Flag: 1187\n",
      "Reference sequence id: 20\n",
      "Position: 9483248\n",
      "Mapping quality: 27\n",
      "Cigar: [(0, 76)]\n",
      "Sequence: TTTTCAAACAGTATCTATGCCTGCCAAATGTGAACATATAAAAAAAAACCAGAATGTGCCATTCTGATTTAAACTG\n",
      "Query quality: array('B', [28, 28, 27, 29, 31, 30, 31, 31, 29, 31, 35, 30, 29, 31, 34, 30, 29, 23, 41, 32, 20, 30, 29, 34, 34, 29, 30, 31, 30, 30, 30, 33, 33, 26, 39, 12, 25, 19, 32, 30, 35, 28, 35, 33, 23, 33, 35, 36, 30, 38, 33, 41, 34, 35, 31, 33, 23, 30, 30, 36, 27, 32, 29, 34, 35, 41, 33, 31, 33, 29, 32, 32, 31, 31, 31, 34])\n",
      "Tags: [('XA', 'GL000217.1,-110754,76M,1;'), ('BD', 'NNNNNNNNNNNNNNNNNNNNNNNNNNNNNNNNNNNNNNNNNNNNNNNNNNNNNNNNNNNNNNNNNNNNNNNNNNNN'), ('MD', '76'), ('RG', '1'), ('BI', 'NNNNNNNNNNNNNNNNNNNNNNNNNNNNNNNNNNNNNNNNNNNNNNNNNNNNNNNNNNNNNNNNNNNNNNNNNNNN'), ('NM', 0), ('MQ', 27), ('AS', 76), ('XS', 71)]\n",
      "Next reference sequence id: 20\n",
      "Next reference sequence position: 9483381\n",
      "\n",
      "\n",
      "Flag for read 1 is 1187\n",
      "Flag for read 5 is 99\n",
      "Flag for read 10 is 1123\n",
      "Flag for read 15 is 147\n",
      "Flag for read 20 is 163\n",
      "\n",
      "Total number of reads 2921629\n",
      "Unmapped reads: 17765\n",
      "Reads with mapping quality 0: 126628\n",
      "Average mapping quality: 55.9137915868\n",
      "Average mapping quality, 0 quality filtered out: 58.4469755109\n"
     ]
    }
   ],
   "source": [
    "READS_OF_INTEREST = [1, 5, 10, 15, 20]\n",
    "\n",
    "number_of_unmapped_reads = 0\n",
    "reads_with_mapping_quality_0 = 0\n",
    "sum_quality_non_zero = 0\n",
    "for index, read in enumerate(bamfile.fetch()):\n",
    "    if index==0:\n",
    "        # Print data for first read\n",
    "        print(\"Read number {}\".format((index+1)))\n",
    "        print(\"Query name: {}\".format(read.query_name))\n",
    "        print(\"Flag: {}\".format(read.flag))\n",
    "        print(\"Reference sequence id: {}\".format(read.reference_id))\n",
    "        print(\"Position: {}\".format(read.reference_start))\n",
    "        print(\"Mapping quality: {}\".format(read.mapping_quality))\n",
    "        print(\"Cigar: {}\".format(read.cigar))\n",
    "        print(\"Sequence: {}\".format(read.query_sequence))\n",
    "        print(\"Query quality: {}\".format(read.query_qualities))\n",
    "        print(\"Tags: {}\".format(read.tags))\n",
    "        \n",
    "        print(\"Next reference sequence id: {}\".format(read.next_reference_id))\n",
    "        print(\"Next reference sequence position: {}\\n\\n\".format(read.next_reference_start))\n",
    "              \n",
    "    # Write flags for some reads\n",
    "    if (index+1) in READS_OF_INTEREST:\n",
    "        print(\"Flag for read {} is {}\".format((index+1), read.flag))\n",
    "            \n",
    "    if read.is_unmapped:\n",
    "        number_of_unmapped_reads += 1\n",
    "    if read.mapping_quality == 0:\n",
    "        reads_with_mapping_quality_0 += 1\n",
    "    else:\n",
    "        sum_quality_non_zero += read.mapping_quality\n",
    "\n",
    "total_number_of_reads = pysam.AlignmentFile.count(bamfile)\n",
    "print(\"\\nTotal number of reads {}\".format(total_number_of_reads))\n",
    "print(\"Unmapped reads: {}\".format(number_of_unmapped_reads))\n",
    "print(\"Reads with mapping quality 0: {}\".format(reads_with_mapping_quality_0))\n",
    "print(\"Average mapping quality: {}\".format((float(sum_quality_non_zero)/total_number_of_reads)))\n",
    "print(\"Average mapping quality, 0 quality filtered out: {}\".format(float(sum_quality_non_zero)/(total_number_of_reads - reads_with_mapping_quality_0)))"
   ]
  },
  {
   "cell_type": "code",
   "execution_count": null,
   "metadata": {},
   "outputs": [],
   "source": []
  }
 ],
 "metadata": {
  "kernelspec": {
   "display_name": "Python 2",
   "language": "python",
   "name": "python2"
  },
  "language_info": {
   "codemirror_mode": {
    "name": "ipython",
    "version": 2
   },
   "file_extension": ".py",
   "mimetype": "text/x-python",
   "name": "python",
   "nbconvert_exporter": "python",
   "pygments_lexer": "ipython2",
   "version": "2.7.14"
  }
 },
 "nbformat": 4,
 "nbformat_minor": 2
}
